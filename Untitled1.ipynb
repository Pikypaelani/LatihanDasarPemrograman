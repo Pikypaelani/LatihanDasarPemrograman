{
  "nbformat": 4,
  "nbformat_minor": 0,
  "metadata": {
    "colab": {
      "provenance": [],
      "authorship_tag": "ABX9TyP5u7I2yXubympj8G8wtSox",
      "include_colab_link": true
    },
    "kernelspec": {
      "name": "python3",
      "display_name": "Python 3"
    },
    "language_info": {
      "name": "python"
    }
  },
  "cells": [
    {
      "cell_type": "markdown",
      "metadata": {
        "id": "view-in-github",
        "colab_type": "text"
      },
      "source": [
        "<a href=\"https://colab.research.google.com/github/Pikypaelani/LatihanDasarPemrograman/blob/main/Untitled1.ipynb\" target=\"_parent\"><img src=\"https://colab.research.google.com/assets/colab-badge.svg\" alt=\"Open In Colab\"/></a>"
      ]
    },
    {
      "cell_type": "code",
      "execution_count": 1,
      "metadata": {
        "colab": {
          "base_uri": "https://localhost:8080/"
        },
        "id": "PGtCRB-GuRGq",
        "outputId": "84b3af6a-c09d-4189-c78a-debf1a8755e5"
      },
      "outputs": [
        {
          "output_type": "stream",
          "name": "stdout",
          "text": [
            "==============================\n",
            "PROGRAM MENGHITUNG LUAS\n",
            "==============================\n",
            "1).luas segitiga\n",
            "2).luas persegi panjang \n",
            "3).keliling persegi panjang \n",
            "masukan angka untuk masuk program  = 2\n",
            "============================== PROGRAM PERSEGI PANJANG ==============================\n",
            "masuknan nilai panjang\t = 35\n",
            "masukan nilai lebar \t= 25\n",
            "luas persegi panjang adaah =  875\n",
            "masukan angka untuk masuk program  = Habshaba\n",
            "masukan kode yang benar\n",
            "masukan angka untuk masuk program  = Y\n",
            "masukan angka untuk masuk program  = N\n",
            "program selesai \n"
          ]
        }
      ],
      "source": [
        "print(\"=\"*30 )\n",
        "print('PROGRAM MENGHITUNG LUAS')\n",
        "print('='*30)\n",
        "print('1).luas segitiga\\n2).luas persegi panjang \\n3).keliling persegi panjang ')\n",
        "\n",
        "\n",
        "def luas_segitiga ():\n",
        "    print('='*30,'PROGRAM LUAS SEGITIGA','='*30)\n",
        "    alas = float(input('masukan nilai alas\\t = '))\n",
        "    tinggi = float(input('masukann nilai tinggi \\t= '))\n",
        "    luas = 1/2 * alas * tinggi\n",
        "    print('luas segitiga adalah = ',luas )\n",
        "\n",
        "def luas_persegi_panjang():\n",
        "    print('='*30,'PROGRAM PERSEGI PANJANG','='*30)\n",
        "    panjang = int(input('masuknan nilai panjang\\t = '))\n",
        "    lebar = int(input('masukan nilai lebar \\t= '))\n",
        "    l = panjang * lebar \n",
        "    print('luas persegi panjang adaah = ',l)\n",
        "\n",
        "def keliling_persegi_panjang():\n",
        "    print('='*30,'KELILING PERSEGI PANJANG','='*30)\n",
        "    panjang = int(input('masukan nilai panjang \\t = '))\n",
        "    lebar = int(input('masukan nilai lebar\\t = '))\n",
        "    keliling = panjang + lebar + panjang + lebar\n",
        "    print('keliling persegi panjang adalah \\t= ',keliling)\n",
        "    \n",
        "while True:\n",
        "  \n",
        "    user = input('masukan angka untuk masuk program  = ')\n",
        "   \n",
        "    if (user == '1'):\n",
        "        luas_segitiga()\n",
        "    elif(user == '2'):\n",
        "        luas_persegi_panjang()\n",
        "    elif(user == '3'):\n",
        "        keliling_persegi_panjang()\n",
        "    elif(user == 'Y'):\n",
        "        user\n",
        "    elif(user == 'N'):\n",
        "        print('program selesai ')\n",
        "        break\n",
        "    else:\n",
        "        print('masukan kode yang benar')"
      ]
    }
  ]
}